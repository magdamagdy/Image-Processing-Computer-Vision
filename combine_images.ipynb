{
  "cells": [
    {
      "cell_type": "code",
      "execution_count": 2,
      "metadata": {
        "id": "HEzfYwLHNINY"
      },
      "outputs": [],
      "source": [
        "import cv2\n",
        "import numpy as np"
      ]
    },
    {
      "cell_type": "code",
      "execution_count": 3,
      "metadata": {
        "id": "2nVL0AO0MzvV"
      },
      "outputs": [],
      "source": [
        "def combine_images( lane_area_img1, edges, warp,warp_rect,warp_highlight, lane):        \n",
        "        \n",
        "        background = np.zeros_like(lane_area_img1)\n",
        "        large_img_size = (background.shape[1] - int(background.shape[1]/3),int(0.75*background.shape[0])) \n",
        "        small_img_size=(int(background.shape[1]/3),int(0.25*background.shape[0]))\n",
        "        small_img_x_offset=0 \n",
        "        small_img_y_offset=0\n",
        "        x=int((0.75*background.shape[0])/2)\n",
        "        new_image=(int(background.shape[1]/3),x)\n",
        "\n",
        "        warp_img = cv2.resize(np.dstack((warp, warp, warp))*255,small_img_size)\n",
        "        edges_image = cv2.resize(np.dstack((edges, edges, edges))*255,small_img_size)\n",
        "        lane_img = cv2.resize(lane,new_image)\n",
        "        road = cv2.resize(lane_area_img1,large_img_size)\n",
        "        warp_rect_img = cv2.resize(warp_rect,small_img_size)\n",
        "        warp_highlight_img = cv2.resize(warp_highlight,new_image)\n",
        "\n",
        "        background[0: small_img_size[1], 0: small_img_size[0]] = edges_image\n",
        "        \n",
        "        start_offset_y = small_img_y_offset \n",
        "        endy = start_offset_y + small_img_size[1]\n",
        "        if endy > background.shape[0]:\n",
        "          endy = background.shape[0]\n",
        "        start_offset_x = 2 * small_img_x_offset + small_img_size[0]\n",
        "        endx = start_offset_x + small_img_size[0]\n",
        "        if endx > background.shape[1]:\n",
        "          endx = background.shape[1]\n",
        "        background[start_offset_y:endy , start_offset_x: endx] = warp_img\n",
        "        \n",
        "        start_offset_y = small_img_y_offset \n",
        "        endy = start_offset_y + small_img_size[1]\n",
        "        if endy > background.shape[0]:\n",
        "          endy = background.shape[0]\n",
        "        start_offset_x = 3 * small_img_x_offset + 2 * small_img_size[0]\n",
        "        endx = start_offset_x + small_img_size[0]\n",
        "        if endx > background.shape[1]:\n",
        "          endx = background.shape[1]\n",
        "        background[start_offset_y: endy, start_offset_x: endx] = warp_rect_img\n",
        "\n",
        "        start_offset_y = small_img_y_offset \n",
        "        endy = x +int(0.25*background.shape[0])\n",
        "        if endy > background.shape[0]:\n",
        "          endy = background.shape[0]\n",
        "        # start_offset_x = 3 * small_img_x_offset + 3 * small_img_size[0]\n",
        "        # endx = start_offset_x + small_img_size[0]\n",
        "        if endx > background.shape[1]:\n",
        "          endx = background.shape[1]\n",
        "        background[int(0.25*background.shape[0]): endy, background.shape[1] - int(background.shape[1]/3): ] = warp_highlight_img\n",
        "\n",
        "        # start_offset_y = small_img_y_offset \n",
        "        # endy = int(0.25*background.shape[0]) + 2*small_img_size[1]\n",
        "        # if endy > background.shape[0]:\n",
        "        #   endy = background.shape[0]\n",
        "        # start_offset_x = 3 * small_img_x_offset + 3 * small_img_size[0]\n",
        "        # endx = start_offset_x + small_img_size[0]\n",
        "        # if endx > background.shape[1]:\n",
        "        #   endx = background.shape[1]\n",
        "        background[endy: , background.shape[1] - int(background.shape[1]/3): ] = lane_img\n",
        "\n",
        "\n",
        "        # start_offset_y = small_img_y_offset \n",
        "        # start_offset_x = 4 * small_img_x_offset + 3 * small_img_size[0]\n",
        "        background[int(0.25*background.shape[0]):  , 0:background.shape[1] - int(background.shape[1]/3)  ] = road\n",
        "        \n",
        "        \n",
        "        return background"
      ]
    }
  ],
  "metadata": {
    "colab": {
      "name": "combine_images.ipynb",
      "provenance": []
    },
    "kernelspec": {
      "display_name": "Python 3",
      "name": "python3"
    },
    "language_info": {
      "name": "python"
    }
  },
  "nbformat": 4,
  "nbformat_minor": 0
}
