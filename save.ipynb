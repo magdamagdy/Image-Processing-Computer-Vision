{
  "cells": [
    {
      "cell_type": "code",
      "execution_count": null,
      "metadata": {
        "colab": {
          "background_save": true
        },
        "id": "HEzfYwLHNINY"
      },
      "outputs": [],
      "source": [
        "import cv2\n",
        "import numpy as np"
      ]
    },
    {
      "cell_type": "code",
      "source": [
        "def crop(img):\n",
        "  h=img.shape[0]\n",
        "  w=img.shape[1]\n",
        "  polygons = np.array([[(130,h),(w,h),(w,0),(130,0)]])#[(100,height),(480,int(height/2)),(900,height)]\n",
        "  mask=np.zeros_like(img)\n",
        "  cv2.fillPoly(mask,polygons,255)\n",
        "  masked_image = cv2.bitwise_and(mask,img)\n",
        "  return masked_image"
      ],
      "metadata": {
        "id": "WxdtNZXjDZ5y"
      },
      "execution_count": null,
      "outputs": []
    },
    {
      "cell_type": "code",
      "source": [
        "def create_video(Input_video_path,Output_video_path,mode):\n",
        "\n",
        "  clip1 = VideoFileClip(Input_video_path)\n",
        "  if (mode==1):\n",
        "    video_clip = clip1.fl_image(process7_debug) \n",
        "    video_clip.write_videofile(Output_video_path, audio=False)\n",
        "  else:\n",
        "    video_clip = clip1.fl_image(process7) \n",
        "    video_clip.write_videofile(Output_video_path, audio=False)"
      ],
      "metadata": {
        "id": "1m5K-S1cDTF9"
      },
      "execution_count": null,
      "outputs": []
    }
  ],
  "metadata": {
    "colab": {
      "name": "save.ipynb",
      "provenance": []
    },
    "kernelspec": {
      "display_name": "Python 3",
      "name": "python3"
    },
    "language_info": {
      "name": "python"
    }
  },
  "nbformat": 4,
  "nbformat_minor": 0
}