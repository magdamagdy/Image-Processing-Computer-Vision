{
 "cells": [
  {
   "cell_type": "code",
   "execution_count": 35,
   "metadata": {},
   "outputs": [],
   "source": [
    "import matplotlib.image as mpimg\n",
    "import matplotlib.pyplot as plt\n",
    "import numpy as np\n",
    "import cv2\n",
    "%matplotlib inline"
   ]
  },
  {
   "cell_type": "code",
   "execution_count": 3,
   "metadata": {},
   "outputs": [],
   "source": [
    "def visualize_images(input_images, num_cols, figure_name, cmap = None):\n",
    "    \"Shows input images by stacking them in num_cols columns\"\n",
    "    fig, axes = plt.subplots((int)((len(input_images) + 1) /num_cols), num_cols, figsize=(24, 20))\n",
    "\n",
    "    fig = plt.gcf()\n",
    "    fig.canvas.set_window_title(figure_name)\n",
    "    \n",
    "    print(figure_name)\n",
    "    \n",
    "    for ax, image in zip(axes.flat, input_images):\n",
    "        if(cmap == \"gray\" or cmap == 'hot'):\n",
    "            ax.imshow(image, cmap=cmap)\n",
    "        elif(image.shape[2]==1):\n",
    "            ax.imshow(image[:,:,0], cmap = cmap)\n",
    "        else:\n",
    "            ax.imshow(image, cmap=cmap)\n",
    "\n",
    "    plt.show()\n",
    "    "
   ]
  },
  {
   "cell_type": "code",
   "execution_count": 34,
   "metadata": {},
   "outputs": [],
   "source": [
    "def draw_labeled_bboxes(img, labels):\n",
    "    # Iterate through all detected cars\n",
    "    img_copy = np.copy(img)\n",
    "    result_rectangles = []\n",
    "    for car_number in range(1, labels[1]+1):\n",
    "        # Find pixels with each car_number label value\n",
    "        nonzero = (labels[0] == car_number).nonzero()\n",
    "        # Identify x and y values of those pixels\n",
    "        nonzeroy = np.array(nonzero[0])\n",
    "        nonzerox = np.array(nonzero[1])\n",
    "        # Define a bounding box based on min/max x and y\n",
    "        bbox = ((np.min(nonzerox), np.min(nonzeroy)), (np.max(nonzerox), np.max(nonzeroy)))\n",
    "        area = (bbox[1][1] - bbox[0][1]) * (bbox[1][0] - bbox[0][0])\n",
    "        if area > 40 * 40:\n",
    "            result_rectangles.append(bbox)\n",
    "            # Draw the box on the image\n",
    "            # cv2.rectangle(img_copy, bbox[0], bbox[1], (0,255,0), 6)    (bbox[0][0]-100,bbox[0][1]-100), (bbox[1][0]+100,bbox[1][1]+100)\n",
    "            cv2.rectangle(img_copy,(bbox[0][0]-int(0.02*bbox[0][0]),bbox[0][1]-int(0.02*bbox[0][1])), (bbox[1][0]+int(0.02*bbox[1][0]),bbox[1][1]+int(0.02*bbox[1][1])), (0,255,0), 6)\n",
    "    # Return the image\n",
    "    return result_rectangles, img_copy"
   ]
  },
  {
   "cell_type": "code",
   "execution_count": 26,
   "metadata": {},
   "outputs": [],
   "source": [
    "def draw_boxes(img, bboxes, color=(0, 0, 255), thick=6):\n",
    "    # Make a copy of the image\n",
    "    imcopy = np.copy(img)\n",
    "    random_color = False\n",
    "    # Iterate through the bounding boxes\n",
    "    for bbox in bboxes:\n",
    "        if color == 'random' or random_color:\n",
    "            color = (np.random.randint(0,255), np.random.randint(0,255), np.random.randint(0,255))\n",
    "            random_color = True\n",
    "        # Draw a rectangle given bbox coordinates\n",
    "        cv2.rectangle(imcopy, bbox[0], bbox[1], color, thick)\n",
    "        # cv2.rectangle(imcopy, (bbox[0][0]-100,bbox[0][1]-100), (bbox[1][0]+100,bbox[1][1]+100), color, thick)\n",
    "    # Return the image copy with boxes drawn\n",
    "    return imcopy"
   ]
  },
  {
   "cell_type": "code",
   "execution_count": 27,
   "metadata": {},
   "outputs": [],
   "source": [
    "def visualize_bboxes(image, scales = [1, 1.5, 2, 2.5, 3], \n",
    "                   ystarts = [400, 400, 450, 450, 460], \n",
    "                   ystops = [528, 550, 620, 650, 700]):\n",
    "    out_rectangles = []\n",
    "    svc = pickle.load(open('svc_pickle.pkl', 'rb'))\n",
    "    for scale, ystart, ystop in zip(scales, ystarts, ystops):\n",
    "        rectangles = find_cars(image, ystart, ystop, scale, svc, X_scaler, orient, pix_per_cell, cell_per_block, spatial_size, hist_bins, vis_bboxes = True)\n",
    "        if len(rectangles) > 0:\n",
    "            out_rectangles.append(rectangles)\n",
    "    out_rectangles = [item for sublist in out_rectangles for item in sublist] \n",
    "\n",
    "    plt.figure(figsize=(20,10))\n",
    "    plt.imshow(draw_boxes(image, out_rectangles, color='random', thick=3))"
   ]
  },
  {
   "cell_type": "code",
   "execution_count": null,
   "metadata": {},
   "outputs": [],
   "source": [
    "def combine_images( big_image, small1, small2):        \n",
    "        \n",
    "        background = np.zeros_like(big_image)\n",
    "        large_img_size = (background.shape[1],int(0.75*background.shape[0])) \n",
    "        small_img_size=(int(background.shape[1]/2),int(0.25*background.shape[0]))\n",
    "        small_img_x_offset=0 \n",
    "        small_img_y_offset=0\n",
    "\n",
    "        img2 = cv2.resize(np.dstack((small2, small2, small2))*255, small_img_size)\n",
    "        img1 = cv2.resize(small1, small_img_size)\n",
    "        img3 = cv2.resize(big_image, large_img_size)\n",
    "\n",
    "        background[0: small_img_size[1], 0: small_img_size[0]] = img2\n",
    "        \n",
    "        start_offset_y = small_img_y_offset \n",
    "        endy = start_offset_y + small_img_size[1]\n",
    "        if endy > background.shape[0]:\n",
    "          endy = background.shape[0]\n",
    "        start_offset_x = 2 * small_img_x_offset + small_img_size[0]\n",
    "        endx = start_offset_x + small_img_size[0]\n",
    "        if endx > background.shape[1]:\n",
    "          endx = background.shape[1]\n",
    "        background[start_offset_y:endy , start_offset_x: endx] = img1\n",
    "\n",
    "        background[int(0.25*background.shape[0]): , : ] = img3\n",
    "         \n",
    "        return background"
   ]
  }
 ],
 "metadata": {
  "interpreter": {
   "hash": "5ae58900cfbb8c43ab3495913814b7cf26024f51651a94ce8bf64d6111688e8d"
  },
  "kernelspec": {
   "display_name": "Python 3.9.7 ('base')",
   "language": "python",
   "name": "python3"
  },
  "language_info": {
   "codemirror_mode": {
    "name": "ipython",
    "version": 3
   },
   "file_extension": ".py",
   "mimetype": "text/x-python",
   "name": "python",
   "nbconvert_exporter": "python",
   "pygments_lexer": "ipython3",
   "version": "3.9.7"
  },
  "orig_nbformat": 4
 },
 "nbformat": 4,
 "nbformat_minor": 2
}
