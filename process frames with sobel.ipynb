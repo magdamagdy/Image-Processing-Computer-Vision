{
  "nbformat": 4,
  "nbformat_minor": 0,
  "metadata": {
    "colab": {
      "name": "Untitled1.ipynb",
      "provenance": []
    },
    "kernelspec": {
      "name": "python3",
      "display_name": "Python 3"
    },
    "language_info": {
      "name": "python"
    }
  },
  "cells": [
    {
      "cell_type": "code",
      "execution_count": 1,
      "metadata": {
        "colab": {
          "base_uri": "https://localhost:8080/"
        },
        "id": "nbM4rPJvOUg_",
        "outputId": "9957b970-9601-41c7-c197-eb43bd213dfc"
      },
      "outputs": [
        {
          "output_type": "stream",
          "name": "stdout",
          "text": [
            "Imageio: 'ffmpeg-linux64-v3.3.1' was not found on your computer; downloading it now.\n",
            "Try 1. Download from https://github.com/imageio/imageio-binaries/raw/master/ffmpeg/ffmpeg-linux64-v3.3.1 (43.8 MB)\n",
            "Downloading: 8192/45929032 bytes (0.0%)\b\b\b\b\b\b\b\b\b\b\b\b\b\b\b\b\b\b\b\b\b\b\b\b\b\b2613248/45929032 bytes (5.7%)\b\b\b\b\b\b\b\b\b\b\b\b\b\b\b\b\b\b\b\b\b\b\b\b\b\b\b\b\b5873664/45929032 bytes (12.8%)\b\b\b\b\b\b\b\b\b\b\b\b\b\b\b\b\b\b\b\b\b\b\b\b\b\b\b\b\b\b9060352/45929032 bytes (19.7%)\b\b\b\b\b\b\b\b\b\b\b\b\b\b\b\b\b\b\b\b\b\b\b\b\b\b\b\b\b\b12312576/45929032 bytes (26.8%)\b\b\b\b\b\b\b\b\b\b\b\b\b\b\b\b\b\b\b\b\b\b\b\b\b\b\b\b\b\b\b15564800/45929032 bytes (33.9%)\b\b\b\b\b\b\b\b\b\b\b\b\b\b\b\b\b\b\b\b\b\b\b\b\b\b\b\b\b\b\b19054592/45929032 bytes (41.5%)\b\b\b\b\b\b\b\b\b\b\b\b\b\b\b\b\b\b\b\b\b\b\b\b\b\b\b\b\b\b\b22331392/45929032 bytes (48.6%)\b\b\b\b\b\b\b\b\b\b\b\b\b\b\b\b\b\b\b\b\b\b\b\b\b\b\b\b\b\b\b25288704/45929032 bytes (55.1%)\b\b\b\b\b\b\b\b\b\b\b\b\b\b\b\b\b\b\b\b\b\b\b\b\b\b\b\b\b\b\b28794880/45929032 bytes (62.7%)\b\b\b\b\b\b\b\b\b\b\b\b\b\b\b\b\b\b\b\b\b\b\b\b\b\b\b\b\b\b\b32595968/45929032 bytes (71.0%)\b\b\b\b\b\b\b\b\b\b\b\b\b\b\b\b\b\b\b\b\b\b\b\b\b\b\b\b\b\b\b35078144/45929032 bytes (76.4%)\b\b\b\b\b\b\b\b\b\b\b\b\b\b\b\b\b\b\b\b\b\b\b\b\b\b\b\b\b\b\b38125568/45929032 bytes (83.0%)\b\b\b\b\b\b\b\b\b\b\b\b\b\b\b\b\b\b\b\b\b\b\b\b\b\b\b\b\b\b\b41345024/45929032 bytes (90.0%)\b\b\b\b\b\b\b\b\b\b\b\b\b\b\b\b\b\b\b\b\b\b\b\b\b\b\b\b\b\b\b44982272/45929032 bytes (97.9%)\b\b\b\b\b\b\b\b\b\b\b\b\b\b\b\b\b\b\b\b\b\b\b\b\b\b\b\b\b\b\b45929032/45929032 bytes (100.0%)\n",
            "  Done\n",
            "File saved as /root/.imageio/ffmpeg/ffmpeg-linux64-v3.3.1.\n"
          ]
        }
      ],
      "source": [
        "import numpy as np\n",
        "import cv2\n",
        "import os\n",
        "import glob\n",
        "import matplotlib.pyplot as plt\n",
        "from google.colab.patches import cv2_imshow\n",
        "from moviepy.editor import VideoFileClip\n",
        "from moviepy.video.io.VideoFileClip import VideoFileClip\n",
        "#from tracker import *"
      ]
    },
    {
      "cell_type": "code",
      "source": [
        "def perspective_warp(img, \n",
        "                     dst_size=(1280,720),\n",
        "                     src=np.float32([(0.43,0.65),(0.58,0.65),(0.1,1),(1,1)]),#[(0.43,0.65),(0.58,0.65),(0.1,1),(1,1)] [(0.30,0.65),(0.60,0.65),(0.1,1),(1,1)]\n",
        "                     dst=np.float32([(0,0), (1, 0), (0,1), (1,1)])):\n",
        "    img_size = np.float32([(img.shape[1],img.shape[0])])\n",
        "    src = src* img_size\n",
        "    # For destination points, I'm arbitrarily choosing some points to be a nice fit for displaying our warped result again, not exact, but close enough for our purposes\n",
        "    dst = dst * np.float32(dst_size)\n",
        "    # Given src and dst points, calculate the perspective transform matrix\n",
        "    M = cv2.getPerspectiveTransform(src, dst)\n",
        "    # Warp the image using OpenCV warpPerspective()\n",
        "    warped = cv2.warpPerspective(img, M, dst_size,cv2.INTER_LINEAR)\n",
        "    return warped"
      ],
      "metadata": {
        "id": "ea9l8PMROWw1"
      },
      "execution_count": 2,
      "outputs": []
    },
    {
      "cell_type": "code",
      "source": [
        "def inv_perspective_warp(img, \n",
        "                     dst_size=(1280,720),\n",
        "                     src=np.float32([(0,0), (1, 0), (0,1), (1,1)]),\n",
        "                     dst=np.float32([(0.43,0.65),(0.58,0.65),(0.1,1),(1,1)])):#[(0.43,0.65),(0.58,0.65),(0.1,1),(1,1)] [(0.30,0.65),(0.60,0.65),(0.1,1),(1,1)]\n",
        "    img_size = np.float32([(img.shape[1],img.shape[0])])\n",
        "    src = src* img_size\n",
        "    # For destination points, I'm arbitrarily choosing some points to be\n",
        "    # a nice fit for displaying our warped result \n",
        "    # again, not exact, but close enough for our purposes\n",
        "    dst = dst * np.float32(dst_size)\n",
        "    # Given src and dst points, calculate the perspective transform matrix\n",
        "    M = cv2.getPerspectiveTransform(src, dst)\n",
        "    # Warp the image using OpenCV warpPerspective()\n",
        "    warped = cv2.warpPerspective(img, M, dst_size,cv2.INTER_LINEAR)\n",
        "    return warped"
      ],
      "metadata": {
        "id": "E37Ao7OqOe2E"
      },
      "execution_count": 3,
      "outputs": []
    },
    {
      "cell_type": "code",
      "source": [
        "def all_in_one (in_image_1):\n",
        "  hls = cv2.cvtColor(in_image_1, cv2.COLOR_RGB2HLS)#.astype(np.float)\n",
        "  l_channel = hls[:,:,1]  \n",
        "  s_channel = hls[:,:,2]\n",
        "  h_channel = hls[:,:,0]\n",
        "  \n",
        "  grad_x = abs_sobel_thresh(l_channel, 'x', thresh=(10, 200))\n",
        "  dir_binary = dir_threshold(l_channel, thresh=(np.pi/6, np.pi/2))\n",
        "  combined = ((grad_x == 1) & (dir_binary == 1))\n",
        "  combined_binary = np.array(combined).astype(np.uint8)\n",
        "\n",
        "  after_warp = perspective_warp(combined_binary,\n",
        "                                dst_size=(1280,720),\n",
        "                                src=np.float32([(0.43,0.65),(0.58,0.65),(0.1,1),(1,1)]),\n",
        "                                dst=np.float32([(0,0), (1, 0), (0,1), (1,1)]))\n",
        "\n",
        "  frame, left_curverad, right_curverad = search_around_poly(after_warp)   #Final_warp)\n",
        "  #frame after inverse prespective\n",
        "  frame =inv_perspective_warp(frame, \n",
        "                      dst_size=(in_image_1.shape[1],in_image_1.shape[0]),\n",
        "                      src=np.float32([(0,0), (1, 0), (0,1), (1,1)]),\n",
        "                      dst=np.float32([(0.43,0.65),(0.58,0.65),(0.1,1),(1,1)]))\n",
        "  frame = cv2.addWeighted(frame, 0.3, in_image_1, 0.7, 0) \n",
        "  #Add curvature and distance from the center\n",
        "  curvature = (left_curverad + right_curverad) / 2     # get radius of left_lane & radius of right_lane /2 -->to get radius of curvature located at middle of lane\n",
        "  print(left_curverad)\n",
        "  print(right_curverad)\n",
        "  print(curvature)    #radius of curvature  print()\n",
        "  car_pos = in_image_1.shape[1] / 2  #middle point of the image\n",
        "  center = (abs(car_pos - curvature)*(3.7/650))/10  #distance from the center  \n",
        "  curvature = 'Radius of Curvature: ' + str(round(curvature, 2)) + 'm'\n",
        "  center = str(round(center, 3)) + 'm away from center'\n",
        "  frame = cv2.putText(frame, curvature, (50, 50), cv2.FONT_HERSHEY_COMPLEX, 1, (255, 255, 255), 2, cv2.LINE_AA)\n",
        "  frame = cv2.putText(frame, center, (50, 100), cv2.FONT_HERSHEY_COMPLEX, 1, (255, 255, 255), 2, cv2.LINE_AA)\n",
        "  return frame"
      ],
      "metadata": {
        "id": "8Z_re7GKOgSj"
      },
      "execution_count": 4,
      "outputs": []
    }
  ]
}