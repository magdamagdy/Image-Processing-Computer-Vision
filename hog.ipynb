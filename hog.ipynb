{
  "nbformat": 4,
  "nbformat_minor": 0,
  "metadata": {
    "colab": {
      "name": "Untitled2.ipynb",
      "provenance": [],
      "authorship_tag": "ABX9TyPn2vkmHK2FoDTKHpNM+rJd",
      "include_colab_link": true
    },
    "kernelspec": {
      "name": "python3",
      "display_name": "Python 3"
    },
    "language_info": {
      "name": "python"
    }
  },
  "cells": [
    {
      "cell_type": "markdown",
      "metadata": {
        "id": "view-in-github",
        "colab_type": "text"
      },
      "source": [
        "<a href=\"https://colab.research.google.com/github/magdamagdy/Image-Processing-Computer-Vision/blob/Vehicle-detection/hog.ipynb\" target=\"_parent\"><img src=\"https://colab.research.google.com/assets/colab-badge.svg\" alt=\"Open In Colab\"/></a>"
      ]
    },
    {
      "cell_type": "markdown",
      "source": [
        "##Imports\n"
      ],
      "metadata": {
        "id": "cuKk9NdMGpC0"
      }
    },
    {
      "cell_type": "code",
      "execution_count": null,
      "metadata": {
        "id": "srb4lPNQFbnN"
      },
      "outputs": [],
      "source": [
        "import matplotlib.image as mpimg\n",
        "import matplotlib.pyplot as plt\n",
        "import numpy as np\n",
        "import cv2\n",
        "%matplotlib inline\n",
        "\n",
        "from moviepy.editor import VideoFileClip\n",
        "from IPython.display import HTML\n",
        "import queue\n",
        "import pickle\n",
        "import os\n",
        "from scipy.ndimage.measurements import label"
      ]
    },
    {
      "cell_type": "code",
      "source": [
        "import glob\n",
        "\n",
        "#Read cars and not-cars images\n",
        "\n",
        "#Data folders\n",
        "vehicles_dir =     './vehicles/'\n",
        "non_vehicles_dir = './non-vehicles/'\n",
        "\n",
        "# images are divided up into vehicles and non-vehicles\n",
        "cars = []\n",
        "notcars = []\n",
        "\n",
        "# Read vehicle images\n",
        "images = glob.iglob(vehicles_dir + '/**/*.png', recursive=True)\n",
        "\n",
        "for image in images:\n",
        "        cars.append(image)\n",
        "        \n",
        "# Read non-vehicle images\n",
        "images = glob.iglob(non_vehicles_dir + '/**/*.png', recursive=True)\n",
        "\n",
        "for image in images:\n",
        "        notcars.append(image)"
      ],
      "metadata": {
        "id": "FERP63zZG8Xy"
      },
      "execution_count": null,
      "outputs": []
    },
    {
      "cell_type": "markdown",
      "source": [
        "##Get hog features"
      ],
      "metadata": {
        "id": "NzlOrniQGyns"
      }
    },
    {
      "cell_type": "code",
      "source": [
        "from skimage.feature import hog\n",
        "\n",
        "def get_hog_features(img, orient, pix_per_cell, cell_per_block, \n",
        "                        vis=False, feature_vec=True):\n",
        "    \"\"\"\n",
        "    Return the hog features of the given input image\n",
        "    Call with two outputs if vis==True\"\"\"\n",
        "    if vis == True:\n",
        "        features, hog_image = hog(img, orientations=orient, pixels_per_cell=(pix_per_cell, pix_per_cell),\n",
        "                                  cells_per_block=(cell_per_block, cell_per_block), transform_sqrt=True, \n",
        "                                  visualize=vis, feature_vector=feature_vec)\n",
        "        return features, hog_image\n",
        "    # Otherwise call with one output\n",
        "    else:      \n",
        "        features = hog(img, orientations=orient, pixels_per_cell=(pix_per_cell, pix_per_cell),\n",
        "                       cells_per_block=(cell_per_block, cell_per_block), transform_sqrt=True, \n",
        "                       visualize=vis, feature_vector=feature_vec)\n",
        "        return features"
      ],
      "metadata": {
        "id": "4_XLTIOrHM3j"
      },
      "execution_count": null,
      "outputs": []
    },
    {
      "cell_type": "markdown",
      "source": [
        "##Bin spatial"
      ],
      "metadata": {
        "id": "Dw-lVPFcHWrm"
      }
    },
    {
      "cell_type": "code",
      "source": [
        "def bin_spatial(img, size=(16, 16)):         # to resize image combine each 4 pixel into 1 to make use of color info as a feature  \n",
        "    color1 = cv2.resize(img[:,:,0], size).ravel()\n",
        "    color2 = cv2.resize(img[:,:,1], size).ravel()\n",
        "    color3 = cv2.resize(img[:,:,2], size).ravel()\n",
        "    return np.hstack((color1, color2, color3))"
      ],
      "metadata": {
        "id": "3FQLEYYGHrVV"
      },
      "execution_count": null,
      "outputs": []
    }
  ]
}