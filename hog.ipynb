{
  "nbformat": 4,
  "nbformat_minor": 0,
  "metadata": {
    "colab": {
      "name": "Untitled2.ipynb",
      "provenance": [],
      "authorship_tag": "ABX9TyP3XyjBchVBFrf+2FD91jYM",
      "include_colab_link": true
    },
    "kernelspec": {
      "name": "python3",
      "display_name": "Python 3"
    },
    "language_info": {
      "name": "python"
    }
  },
  "cells": [
    {
      "cell_type": "markdown",
      "metadata": {
        "id": "view-in-github",
        "colab_type": "text"
      },
      "source": [
        "<a href=\"https://colab.research.google.com/github/magdamagdy/Image-Processing-Computer-Vision/blob/Vehicle-detection/hog.ipynb\" target=\"_parent\"><img src=\"https://colab.research.google.com/assets/colab-badge.svg\" alt=\"Open In Colab\"/></a>"
      ]
    },
    {
      "cell_type": "markdown",
      "source": [
        "##Imports\n"
      ],
      "metadata": {
        "id": "cuKk9NdMGpC0"
      }
    },
    {
      "cell_type": "code",
      "execution_count": null,
      "metadata": {
        "id": "srb4lPNQFbnN"
      },
      "outputs": [],
      "source": [
        "import matplotlib.image as mpimg\n",
        "import matplotlib.pyplot as plt\n",
        "import numpy as np\n",
        "import cv2\n",
        "%matplotlib inline\n",
        "\n",
        "from moviepy.editor import VideoFileClip\n",
        "from IPython.display import HTML\n",
        "import queue\n",
        "import pickle\n",
        "import os\n",
        "from scipy.ndimage.measurements import label"
      ]
    },
    {
      "cell_type": "code",
      "source": [
        "import glob\n",
        "\n",
        "#Read cars and not-cars images\n",
        "\n",
        "#Data folders\n",
        "vehicles_dir =     './vehicles/'\n",
        "non_vehicles_dir = './non-vehicles/'\n",
        "\n",
        "# images are divided up into vehicles and non-vehicles\n",
        "cars = []\n",
        "notcars = []\n",
        "\n",
        "# Read vehicle images\n",
        "images = glob.iglob(vehicles_dir + '/**/*.png', recursive=True)\n",
        "\n",
        "for image in images:\n",
        "        cars.append(image)\n",
        "        \n",
        "# Read non-vehicle images\n",
        "images = glob.iglob(non_vehicles_dir + '/**/*.png', recursive=True)\n",
        "\n",
        "for image in images:\n",
        "        notcars.append(image)"
      ],
      "metadata": {
        "id": "FERP63zZG8Xy"
      },
      "execution_count": null,
      "outputs": []
    },
    {
      "cell_type": "markdown",
      "source": [
        "##Get hog features"
      ],
      "metadata": {
        "id": "NzlOrniQGyns"
      }
    },
    {
      "cell_type": "code",
      "source": [
        "from skimage.feature import hog\n",
        "\n",
        "def get_hog_features(img, orient, pix_per_cell, cell_per_block, \n",
        "                        vis=False, feature_vec=True):\n",
        "    \"\"\"\n",
        "    Return the hog features of the given input image\n",
        "    Call with two outputs if vis==True\"\"\"\n",
        "    if vis == True:\n",
        "        features, hog_image = hog(img, orientations=orient, pixels_per_cell=(pix_per_cell, pix_per_cell),\n",
        "                                  cells_per_block=(cell_per_block, cell_per_block), transform_sqrt=True, \n",
        "                                  visualize=vis, feature_vector=feature_vec)\n",
        "        return features, hog_image\n",
        "    # Otherwise call with one output\n",
        "    else:      \n",
        "        features = hog(img, orientations=orient, pixels_per_cell=(pix_per_cell, pix_per_cell),\n",
        "                       cells_per_block=(cell_per_block, cell_per_block), transform_sqrt=True, \n",
        "                       visualize=vis, feature_vector=feature_vec)\n",
        "        return features"
      ],
      "metadata": {
        "id": "4_XLTIOrHM3j"
      },
      "execution_count": null,
      "outputs": []
    },
    {
      "cell_type": "markdown",
      "source": [
        "##Bin spatial"
      ],
      "metadata": {
        "id": "Dw-lVPFcHWrm"
      }
    },
    {
      "cell_type": "code",
      "source": [
        "def bin_spatial(img, size=(16, 16)):         # to resize image combine each 4 pixel into 1 to make use of color info as a feature  \n",
        "    color1 = cv2.resize(img[:,:,0], size).ravel()\n",
        "    color2 = cv2.resize(img[:,:,1], size).ravel()\n",
        "    color3 = cv2.resize(img[:,:,2], size).ravel()\n",
        "    return np.hstack((color1, color2, color3))"
      ],
      "metadata": {
        "id": "3FQLEYYGHrVV"
      },
      "execution_count": null,
      "outputs": []
    },
    {
      "cell_type": "markdown",
      "source": [
        "##Color Histogram "
      ],
      "metadata": {
        "id": "aGwerw8aHsa9"
      }
    },
    {
      "cell_type": "code",
      "source": [
        "# Define a function to compute color histogram features \n",
        "    # Compute the histogram of the RGB channels separately\n",
        "    # Concatenate the histograms into a single feature vector\n",
        "\n",
        "# NEED TO CHANGE bins_range if reading .png files with mpimg!                                                                  32 is the width for 1 region in histogram\n",
        "def color_hist(img, nbins=32, bins_range=(0, 256)):              # to normalize histogram   1 Byte for pixel ranges [0-256]    256/32 = 8 --> 8 regions for histogram\n",
        "    # Compute the histogram of the color channels separately\n",
        "    channel1_hist = np.histogram(img[:,:,0], bins=nbins, range=bins_range)\n",
        "    channel2_hist = np.histogram(img[:,:,1], bins=nbins, range=bins_range)\n",
        "    channel3_hist = np.histogram(img[:,:,2], bins=nbins, range=bins_range)\n",
        "    # Concatenate the histograms into a single feature vector\n",
        "    hist_features = np.concatenate((channel1_hist[0], channel2_hist[0], channel3_hist[0]))\n",
        "    # Return the individual histograms, bin_centers and feature vector\n",
        "    return hist_features\n"
      ],
      "metadata": {
        "id": "5DXrG7S2H35L"
      },
      "execution_count": null,
      "outputs": []
    },
    {
      "cell_type": "markdown",
      "source": [
        "##Extract features"
      ],
      "metadata": {
        "id": "iCvHTCBMH4yM"
      }
    },
    {
      "cell_type": "code",
      "source": [
        "# Define a function to extract features from a list of images\n",
        "# Have this function call bin_spatial() and color_hist()\n",
        "def extract_features(imgs, cspace='RGB', spatial_size=(32, 32),\n",
        "                        hist_bins=32, orient=9, \n",
        "                        pix_per_cell=8, cell_per_block=2, hog_channel='ALL',\n",
        "                        spatial_feat=False, hist_feat=False, hog_feat=True):\n",
        "    # Create a list to append feature vectors to\n",
        "    features = []\n",
        "    # Iterate through the list of images\n",
        "    for file in imgs:\n",
        "        file_features = []\n",
        "        # Read in each one by one\n",
        "        image = mpimg.imread(file)\n",
        "        image = (image * 255).astype(np.uint8)\n",
        "        # apply color conversion if other than 'RGB'\n",
        "        if cspace != 'RGB':\n",
        "            if cspace == 'HSV':\n",
        "                feature_image = cv2.cvtColor(image, cv2.COLOR_RGB2HSV)\n",
        "            elif cspace == 'LUV':\n",
        "                feature_image = cv2.cvtColor(image, cv2.COLOR_RGB2LUV)\n",
        "            elif cspace == 'HLS':\n",
        "                feature_image = cv2.cvtColor(image, cv2.COLOR_RGB2HLS)\n",
        "            elif cspace == 'YUV':\n",
        "                feature_image = cv2.cvtColor(image, cv2.COLOR_RGB2YUV)\n",
        "            elif cspace == 'YCrCb':\n",
        "                feature_image = cv2.cvtColor(image, cv2.COLOR_RGB2YCrCb)\n",
        "        else: feature_image = np.copy(image)      \n",
        "\n",
        "        if spatial_feat == True:\n",
        "            spatial_features = bin_spatial(feature_image, size=spatial_size)\n",
        "            file_features.append(spatial_features)\n",
        "        if hist_feat == True:\n",
        "            # Apply color_hist()\n",
        "            hist_features = color_hist(feature_image, nbins=hist_bins)\n",
        "            file_features.append(hist_features)\n",
        "        if hog_feat == True:\n",
        "        # Call get_hog_features() with vis=False, feature_vec=True\n",
        "            hog_features = []\n",
        "            # get hog features for the 3 channels\n",
        "            for channel in range(feature_image.shape[2]):\n",
        "                hog_features.append(get_hog_features(feature_image[:,:,channel], \n",
        "                                    orient, pix_per_cell, cell_per_block, \n",
        "                                    vis=False, feature_vec=True))\n",
        "            hog_features = np.ravel(hog_features)   \n",
        "\n",
        "            # Append the new feature vector to the features list\n",
        "            file_features.append(hog_features)\n",
        "        features.append(np.concatenate(file_features))\n",
        "    # Return list of feature vectors\n",
        "    return features"
      ],
      "metadata": {
        "id": "INSSJhBnIDZe"
      },
      "execution_count": null,
      "outputs": []
    }
  ]
}