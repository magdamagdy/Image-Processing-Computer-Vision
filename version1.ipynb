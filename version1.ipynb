{
  "nbformat": 4,
  "nbformat_minor": 0,
  "metadata": {
    "colab": {
      "name": "version1.ipynb",
      "provenance": []
    },
    "kernelspec": {
      "name": "python3",
      "display_name": "Python 3"
    },
    "language_info": {
      "name": "python"
    }
  },
  "cells": [
    {
      "cell_type": "code",
      "execution_count": 1,
      "metadata": {
        "id": "UYc-4QvBe4wh",
        "colab": {
          "base_uri": "https://localhost:8080/"
        },
        "outputId": "f92fee42-6609-4632-c68b-5247eb313e36"
      },
      "outputs": [
        {
          "output_type": "stream",
          "name": "stdout",
          "text": [
            "Imageio: 'ffmpeg-linux64-v3.3.1' was not found on your computer; downloading it now.\n",
            "Try 1. Download from https://github.com/imageio/imageio-binaries/raw/master/ffmpeg/ffmpeg-linux64-v3.3.1 (43.8 MB)\n",
            "Downloading: 8192/45929032 bytes (0.0%)\b\b\b\b\b\b\b\b\b\b\b\b\b\b\b\b\b\b\b\b\b\b\b\b\b\b3506176/45929032 bytes (7.6%)\b\b\b\b\b\b\b\b\b\b\b\b\b\b\b\b\b\b\b\b\b\b\b\b\b\b\b\b\b7094272/45929032 bytes (15.4%)\b\b\b\b\b\b\b\b\b\b\b\b\b\b\b\b\b\b\b\b\b\b\b\b\b\b\b\b\b\b10706944/45929032 bytes (23.3%)\b\b\b\b\b\b\b\b\b\b\b\b\b\b\b\b\b\b\b\b\b\b\b\b\b\b\b\b\b\b\b14327808/45929032 bytes (31.2%)\b\b\b\b\b\b\b\b\b\b\b\b\b\b\b\b\b\b\b\b\b\b\b\b\b\b\b\b\b\b\b17924096/45929032 bytes (39.0%)\b\b\b\b\b\b\b\b\b\b\b\b\b\b\b\b\b\b\b\b\b\b\b\b\b\b\b\b\b\b\b21118976/45929032 bytes (46.0%)\b\b\b\b\b\b\b\b\b\b\b\b\b\b\b\b\b\b\b\b\b\b\b\b\b\b\b\b\b\b\b24748032/45929032 bytes (53.9%)\b\b\b\b\b\b\b\b\b\b\b\b\b\b\b\b\b\b\b\b\b\b\b\b\b\b\b\b\b\b\b28516352/45929032 bytes (62.1%)\b\b\b\b\b\b\b\b\b\b\b\b\b\b\b\b\b\b\b\b\b\b\b\b\b\b\b\b\b\b\b32202752/45929032 bytes (70.1%)\b\b\b\b\b\b\b\b\b\b\b\b\b\b\b\b\b\b\b\b\b\b\b\b\b\b\b\b\b\b\b36028416/45929032 bytes (78.4%)\b\b\b\b\b\b\b\b\b\b\b\b\b\b\b\b\b\b\b\b\b\b\b\b\b\b\b\b\b\b\b39526400/45929032 bytes (86.1%)\b\b\b\b\b\b\b\b\b\b\b\b\b\b\b\b\b\b\b\b\b\b\b\b\b\b\b\b\b\b\b43155456/45929032 bytes (94.0%)\b\b\b\b\b\b\b\b\b\b\b\b\b\b\b\b\b\b\b\b\b\b\b\b\b\b\b\b\b\b\b45929032/45929032 bytes (100.0%)\n",
            "  Done\n",
            "File saved as /root/.imageio/ffmpeg/ffmpeg-linux64-v3.3.1.\n"
          ]
        }
      ],
      "source": [
        "import numpy as np\n",
        "import cv2\n",
        "import matplotlib.pyplot as plt\n",
        "from google.colab.patches import cv2_imshow\n",
        "from moviepy.editor import VideoFileClip\n",
        "from moviepy.video.io.VideoFileClip import VideoFileClip"
      ]
    },
    {
      "cell_type": "code",
      "source": [
        "from google.colab import drive\n",
        "drive.mount('/content/drive')"
      ],
      "metadata": {
        "id": "XUvP_JzifBUL"
      },
      "execution_count": null,
      "outputs": []
    },
    {
      "cell_type": "code",
      "source": [
        "def plt_images(orig_image, orig_title, processed_image, processed_title, cmap='gray'):\n",
        "    # Visualize undirstorsion\n",
        "    f, (ax1, ax2) = plt.subplots(1, 2, figsize=(15, 70))\n",
        "    ax1.set_title(orig_title, fontsize=30)\n",
        "    ax1.imshow(orig_image)\n",
        "    ax2.set_title(processed_title, fontsize=30)\n",
        "    ax2.imshow(processed_image, cmap='gray')\n",
        "    plt.subplots_adjust(left=0., right=1, top=0.9, bottom=0.)"
      ],
      "metadata": {
        "id": "7GBX8cyOfEhy"
      },
      "execution_count": 2,
      "outputs": []
    },
    {
      "cell_type": "code",
      "source": [
        "def canny(img):\n",
        "      # Convert to HLS color space\n",
        "      hls = cv2.cvtColor(img, cv2.COLOR_RGB2HLS)\n",
        "      l_channel = hls[:,:,1]  \n",
        "      s_channel = hls[:,:,2]\n",
        "      h_channel = hls[:,:,0]\n",
        "      canny_edges = cv2.Canny(s_channel,100,200)\n",
        "      return canny_edges"
      ],
      "metadata": {
        "id": "4eNGX7zDfIQz"
      },
      "execution_count": 3,
      "outputs": []
    },
    {
      "cell_type": "code",
      "source": [
        "def perspective_warp(img, \n",
        "                     dst_size=(1280,720),\n",
        "                     src=np.float32([(0.43,0.65),(0.58,0.65),(0.1,1),(1,1)]),\n",
        "                     dst=np.float32([(0,0), (1, 0), (0,1), (1,1)])):\n",
        "    img_size = np.float32([(img.shape[1],img.shape[0])])\n",
        "    src = src* img_size\n",
        "    # For destination points, I'm arbitrarily choosing some points to be\n",
        "    # a nice fit for displaying our warped result \n",
        "    # again, not exact, but close enough for our purposes\n",
        "    dst = dst * np.float32(dst_size)\n",
        "    # Given src and dst points, calculate the perspective transform matrix\n",
        "    M = cv2.getPerspectiveTransform(src, dst)\n",
        "    # Warp the image using OpenCV warpPerspective()\n",
        "    warped = cv2.warpPerspective(img, M, dst_size,cv2.INTER_LINEAR)\n",
        "    return warped"
      ],
      "metadata": {
        "id": "5cfj3Yj4fYke"
      },
      "execution_count": 4,
      "outputs": []
    },
    {
      "cell_type": "code",
      "source": [
        "def inv_perspective_warp(img, \n",
        "                     dst_size=(1280,720),\n",
        "                     src=np.float32([(0,0), (1, 0), (0,1), (1,1)]),\n",
        "                     dst=np.float32([(0.43,0.65),(0.58,0.65),(0.1,1),(1,1)])):\n",
        "    img_size = np.float32([(img.shape[1],img.shape[0])])\n",
        "    src = src* img_size\n",
        "    # For destination points, I'm arbitrarily choosing some points to be\n",
        "    # a nice fit for displaying our warped result \n",
        "    # again, not exact, but close enough for our purposes\n",
        "    dst = dst * np.float32(dst_size)\n",
        "    # Given src and dst points, calculate the perspective transform matrix\n",
        "    M = cv2.getPerspectiveTransform(src, dst)\n",
        "    # Warp the image using OpenCV warpPerspective()\n",
        "    warped = cv2.warpPerspective(img, M, dst_size,cv2.INTER_LINEAR)\n",
        "    return warped"
      ],
      "metadata": {
        "id": "XZdBbdFbfcqd"
      },
      "execution_count": 5,
      "outputs": []
    }
  ]
}