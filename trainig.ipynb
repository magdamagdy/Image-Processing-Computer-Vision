{
 "cells": [
  {
   "cell_type": "code",
   "execution_count": null,
   "metadata": {},
   "outputs": [],
   "source": [
    "import matplotlib.image as mpimg\n",
    "import matplotlib.pyplot as plt\n",
    "import numpy as np\n",
    "import cv2\n",
    "%matplotlib inline\n",
    "\n",
    "from moviepy.editor import VideoFileClip\n",
    "from IPython.display import HTML\n",
    "import queue\n",
    "import pickle\n",
    "import os\n",
    "from scipy.ndimage.measurements import label"
   ]
  },
  {
   "cell_type": "markdown",
   "metadata": {},
   "source": [
    "## load data"
   ]
  },
  {
   "cell_type": "code",
   "execution_count": null,
   "metadata": {},
   "outputs": [],
   "source": [
    "import glob\n",
    "\n",
    "#Read cars and not-cars images\n",
    "\n",
    "#Data folders\n",
    "vehicles_dir =     './vehicles/'\n",
    "non_vehicles_dir = './non-vehicles/'\n",
    "\n",
    "# images are divided up into vehicles and non-vehicles\n",
    "cars = []\n",
    "notcars = []\n",
    "\n",
    "# Read vehicle images\n",
    "images = glob.iglob(vehicles_dir + '/**/*.png', recursive=True)\n",
    "\n",
    "for image in images:\n",
    "        cars.append(image)\n",
    "        \n",
    "# Read non-vehicle images\n",
    "images = glob.iglob(non_vehicles_dir + '/**/*.png', recursive=True)\n",
    "\n",
    "for image in images:\n",
    "        notcars.append(image)"
   ]
  },
  {
   "cell_type": "markdown",
   "metadata": {},
   "source": [
    "## Training"
   ]
  },
  {
   "cell_type": "code",
   "execution_count": null,
   "metadata": {},
   "outputs": [],
   "source": [
    "import time\n",
    "from sklearn.svm import LinearSVC\n",
    "from sklearn.model_selection import train_test_split\n",
    "from sklearn.decomposition import PCA\n",
    "from sklearn.utils import shuffle\n",
    "from sklearn.preprocessing import StandardScaler\n",
    "\n",
    "colorspace = 'YUV' # Can be RGB, HSV, LUV, HLS, YUV, YCrCb\n",
    "orient = 9\n",
    "pix_per_cell = 8\n",
    "cell_per_block = 2\n",
    "hog_channel = 'ALL' # Can be 0, 1, 2, or \"ALL\"\n",
    "spatial_size=(32, 32)\n",
    "hist_bins=32\n",
    "\n",
    "t=time.time()\n",
    "\n",
    "car_features = extract_features(cars, cspace=colorspace, orient=orient, \n",
    "                        pix_per_cell=pix_per_cell, cell_per_block=cell_per_block, \n",
    "                        hog_channel=hog_channel, hist_bins=hist_bins)\n",
    "notcar_features = extract_features(notcars, cspace=colorspace, orient=orient, \n",
    "                        pix_per_cell=pix_per_cell, cell_per_block=cell_per_block, \n",
    "                        hog_channel=hog_channel, hist_bins=hist_bins)\n",
    "t2 = time.time()\n",
    "print(round(t2-t, 2), 'Seconds to extract HOG features...')\n",
    "# Create an array stack of feature vectors\n",
    "X = np.vstack((car_features, notcar_features)).astype(np.float64) \n",
    "print(X.shape)\n",
    "\n",
    "# StandardScaler performs the task of Standardization. \n",
    "# Usually a dataset contains variables that are different in scale. \n",
    "# For e.g. an Employee dataset will contain AGE column with values on scale 20-70 and SALARY column with values on scale 10000-80000.\n",
    "# As these two columns are different in scale, they are Standardized to have common scale while building machine learning model.\n",
    "\n",
    "#normalize the scale \n",
    "# Fit a per-column scaler\n",
    "X_scaler = StandardScaler().fit(X)\n",
    "# Apply the scaler to X\n",
    "scaled_X = X_scaler.transform(X) #to scale training and test data \n",
    "\n",
    "# Define the labels vector\n",
    "y = np.hstack((np.ones(len(car_features)), np.zeros(len(notcar_features)))) \n",
    "\n",
    "print(len(y))\n",
    "\n",
    "# Split up data into randomized training and test sets\n",
    "rand_state = np.random.randint(0, 100)\n",
    "X_train, X_test, y_train, y_test = train_test_split(\n",
    "    scaled_X, y, test_size=0.15, random_state=rand_state)\n",
    "\n",
    "#X_train, X_test = shuffle(X_train, y_train, random_state=rand_state)\n",
    "# # Compute a PCA  on the features \n",
    "# n_components = 4932\n",
    "\n",
    "# print(\"Extracting the top %d features from %d total features\"\n",
    "#       % (n_components, X_train.shape[1]))\n",
    "\n",
    "# pca = PCA(n_components=n_components, svd_solver='randomized',\n",
    "#           whiten=True).fit(X_train)\n",
    "\n",
    "# X_train_pca = pca.transform(X_train)\n",
    "print('Using:',orient,'orientations',pix_per_cell,\n",
    "    'pixels per cell and', cell_per_block,'cells per block')\n",
    "print('Feature vector length:', len(X_train[0]))\n",
    "\n",
    "# Use a linear SVC X_scaler\n",
    "svc = LinearSVC()\n",
    "# Check the training time for the SVC\n",
    "t=time.time()\n",
    "svc.fit(X_train, y_train)\n",
    "t2 = time.time()\n",
    "print(round(t2-t, 2), 'Seconds to train SVC...')"
   ]
  },
  {
   "cell_type": "code",
   "execution_count": null,
   "metadata": {},
   "outputs": [],
   "source": [
    "# Check the score of the SVC\n",
    "print('Test Accuracy of SVC = ', round(svc.score(X_test, y_test), 4))\n",
    "# Check the prediction time for a single sample\n",
    "t=time.time()\n",
    "n_predict = 10\n",
    "print('My SVC predicts: ', svc.predict(X_test[0:n_predict]))\n",
    "print('For these',n_predict, 'labels: ', y_test[0:n_predict])\n",
    "t2 = time.time()\n",
    "print(round(t2-t, 5), 'Seconds to predict', n_predict,'labels with SVC')"
   ]
  },
  {
   "cell_type": "code",
   "execution_count": null,
   "metadata": {},
   "outputs": [],
   "source": [
    "#Pickle the data as it takes a lot of time to generate it\n",
    "\n",
    "pickle.dump(svc, open('svc_pickle.pkl', \"wb\"))\n",
    "\n",
    "pickle.dump(X_scaler, open('X_scaler.pkl', \"wb\"))\n"
   ]
  }
 ],
 "metadata": {
  "language_info": {
   "name": "python"
  },
  "orig_nbformat": 4
 },
 "nbformat": 4,
 "nbformat_minor": 2
}
