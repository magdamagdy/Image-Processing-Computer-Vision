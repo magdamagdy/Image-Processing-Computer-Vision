{
  "nbformat": 4,
  "nbformat_minor": 0,
  "metadata": {
    "colab": {
      "name": "Untitled1.ipynb",
      "provenance": []
    },
    "kernelspec": {
      "name": "python3",
      "display_name": "Python 3"
    },
    "language_info": {
      "name": "python"
    }
  },
  "cells": [
    {
      "cell_type": "markdown",
      "metadata": {
        "id": "EB9bk69152tg"
      },
      "source": [
        "## find lane pixels"
      ]
    },
    {
      "cell_type": "code",
      "execution_count": null,
      "metadata": {
        "id": "cHVEvi3heoo1"
      },
      "outputs": [],
      "source": [
        "def find_lane_pixels(image): #image --> after warping image\n",
        "    histogram = np.sum(image[image.shape[0] // 2:, :], axis=0)\n",
        "    out_img = np.dstack((image, image, image)) * 255 #input image is 1 channel so convert it to 3 channel\n",
        "    # out_img will be the warped image with the sliding window on it \n",
        "    midpoint = np.int(histogram.shape[0] // 2) # get midpoint of histogram\n",
        "    leftx_base = np.argmax(histogram[:midpoint]) # get index of peak in the first half of histogram which will correspond to the position of left lane\n",
        "    rightx_base = np.argmax(histogram[midpoint:]) + midpoint # get index of peak in the second half of histogram which will correspond to the position of right lane\n",
        "\n",
        "    # plt.title('Histogram', fontsize=16)\n",
        "    # plt.xlabel('Pixel position')\n",
        "    # plt.ylabel('Counts')\n",
        "    # plt.plot(histogram);\n",
        "\n",
        "    nwindows = 9 # no of windows \n",
        "    margin = 100 # width of window /2\n",
        "    minpix = 50 #?????????????????????????????????????????????????????????????????????????????????????\n",
        "\n",
        "    window_height = np.int(image.shape[0] // nwindows) # get window_height by dividing the image height / nwindows\n",
        "    # print(\"image:\",image)\n",
        "    # nonzero(): Return : [tuple_of_arrays] Indices of elements that are non-zero\n",
        "    nonzero = image.nonzero()        # to get the location of nonzero pixels in image\n",
        "    # print(\"image.nonzero: \",nonzero)\n",
        "    # [[0,5,0,0,1],\n",
        "    # [0,0,0,0,0],\n",
        "    # [4,7,-3,0,0]]\n",
        "    nonzeroy = np.array(nonzero[0])  # to get the rows that have non zero           [0,0,2,2,2]\n",
        "    nonzerox = np.array(nonzero[1])  # to get the index of each non zero element    [1,4,0,1,2]\n",
        "    # print(\"nonzeroy: \",nonzero[0])\n",
        "    # print(\"nonzerox: \",nonzero[1])\n",
        "\n",
        "    # let the start point for window sliding is @ the 2 peaks of histogram\n",
        "    leftx_current = leftx_base\n",
        "    rightx_current = rightx_base\n",
        "\n",
        "    left_lane_inds = []\n",
        "    right_lane_inds = []\n",
        "\n",
        "    for window in range(nwindows):\n",
        "        #first window\n",
        "        # Identify window boundaries in x and y (and right and left)\n",
        "        win_y_low = image.shape[0] - (window + 1) * window_height  # y of top edge of window\n",
        "        win_y_high = image.shape[0] - window * window_height       # y of bottom edge of window\n",
        "        win_xleft_low = leftx_current - margin                     # x of left edge of left window\n",
        "        win_xleft_high = leftx_current + margin                    # x of right edge of left window\n",
        "        win_xright_low = rightx_current - margin                   # x of left edge of right window\n",
        "        win_xright_high = rightx_current + margin                  # x of right edge of right window\n",
        "\n",
        "        # Draw the windows on the visualization image\n",
        "        cv2.rectangle(out_img, (win_xleft_low, win_y_low), (win_xleft_high, win_y_high), (0, 255, 0), 4)\n",
        "        cv2.rectangle(out_img, (win_xright_low, win_y_low), (win_xright_high, win_y_high), (0, 255, 0), 4)\n",
        "\n",
        "        # Identify the nonzero pixels in x and y within the window ###\n",
        "        good_left_inds = ((nonzeroy >= win_y_low) & (nonzeroy < win_y_high) & (nonzerox >= win_xleft_low) & (nonzerox < win_xleft_high)).nonzero()[0]\n",
        "        #good_left_inds -> array contain indices of non zero values inside the left window region\n",
        "        good_right_inds = ((nonzeroy >= win_y_low) & (nonzeroy < win_y_high) & (nonzerox >= win_xright_low) & (nonzerox < win_xright_high)).nonzero()[0]\n",
        "        #good_right_inds -> array contain indices of non zero values inside the right window region\n",
        "        # Append these indices to the lists\n",
        "        left_lane_inds.append(good_left_inds)\n",
        "        right_lane_inds.append(good_right_inds)\n",
        "\n",
        "        # If you found > minpix pixels, recenter next window on their mean position\n",
        "        if len(good_left_inds) > minpix:#>\n",
        "            leftx_current = np.int(np.mean(nonzerox[good_left_inds]))\n",
        "        if len(good_right_inds) > minpix:#>\n",
        "            rightx_current = np.int(np.mean(nonzerox[good_right_inds]))\n",
        "\n",
        "    # Concatenate the arrays of indices (previously was a list of lists of pixels)\n",
        "    try:\n",
        "        left_lane_inds = np.concatenate(left_lane_inds)\n",
        "        right_lane_inds = np.concatenate(right_lane_inds)\n",
        "    except ValueError:\n",
        "        # Avoids an error if the above is not implemented fully\n",
        "        pass\n",
        "\n",
        "    # Extract left and right line pixel positions\n",
        "    leftx = nonzerox[left_lane_inds]\n",
        "    lefty = nonzeroy[left_lane_inds]\n",
        "    rightx = nonzerox[right_lane_inds]\n",
        "    righty = nonzeroy[right_lane_inds]\n",
        "\n",
        "    return leftx, lefty, rightx, righty, out_img\n"
      ]
    }
  ]
}