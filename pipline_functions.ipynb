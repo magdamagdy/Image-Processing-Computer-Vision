{
  "nbformat": 4,
  "nbformat_minor": 0,
  "metadata": {
    "colab": {
      "name": "pipline functions.ipynb",
      "provenance": [],
      "collapsed_sections": []
    },
    "kernelspec": {
      "name": "python3",
      "display_name": "Python 3"
    },
    "language_info": {
      "name": "python"
    }
  },
  "cells": [
    {
      "cell_type": "markdown",
      "source": [
        "##Processing Pipline"
      ],
      "metadata": {
        "id": "_ZUKoueOLqg4"
      }
    },
    {
      "cell_type": "markdown",
      "source": [
        "## - no debug mode"
      ],
      "metadata": {
        "id": "pn-21mD-Lwcg"
      }
    },
    {
      "cell_type": "code",
      "source": [
        "def process7(input):\n",
        " \n",
        "    # step 1 get edges\n",
        "    # after_thr=thresholding(input)\n",
        "    # after_canny=canny(input)\n",
        "    # combined = combine_threshold(after_thr,after_canny)\n",
        "    # region_of_inter = region_of_interest(input)\n",
        "\n",
        "    after_canny=canny(input)\n",
        "    # plt_images(input,\"input\",after_canny,\"after canny\")\n",
        "\n",
        "    blur = cv2.blur(input,(5,5))\n",
        "\n",
        "    gradient_combined = apply_thresholds(blur) #input\n",
        "    # Color thresholding\n",
        "    s_binary = apply_color_threshold(blur) #input\n",
        "    # Combine Gradient and Color thresholding\n",
        "    combined_binary = combine_threshold(s_binary, gradient_combined)\n",
        "\n",
        "    combined = combine_threshold(after_canny,combined_binary)\n",
        "    # plt_images(input,\"input\",after_canny,\"after canny\")\n",
        "    \n",
        "    # step 2 warp canny image\n",
        "    after_warp1=perspective_warp(combined)\n",
        "    # after_warp1=strong_warp(after_warp1)\n",
        "    # plt_images(after_canny,\"after canny\",after_warp,\"after warp\")\n",
        "    after_warp = remove_noise(after_warp1)\n",
        "    # rect = Draw_rectangle(after_warp)#take 1 channel img\n",
        "    # # rect_img=cv2.add(rect,after_warp,dtype = cv2.CV_8U)\n",
        "    # inv_rect =inv_perspective_warp(rect) \n",
        "\n",
        "    # step 3 paint area between lanes\n",
        "    # out_img, window_img, filled_lanes_img, left_curverad, right_curverad\n",
        "    paint,window_img,filled_lanes_img, left_curverad, right_curverad, center_diff = search_around_poly(after_warp)\n",
        "    # plt_images(after_warp,\"after warp\",filled_lanes_img,\"filled lanes\")\n",
        "    # plt_images(window_img,\"window img\",paint,\" painted area \")\n",
        "\n",
        "\n",
        "    # step 4 inverse perspective\n",
        "    frame =inv_perspective_warp(paint, \n",
        "                        dst_size=(input.shape[1],input.shape[0]),\n",
        "                        src=np.float32([(0,0), (1, 0), (0,1), (1,1)]),\n",
        "                        dst=np.float32([(0.43,0.65),(0.58,0.65),(0.1,1),(1,1)]))\n",
        "\n",
        "\n",
        "    # step 5 add painting to input image\n",
        "    result = cv2.addWeighted(frame, 0.3, input, 0.7, 0,dtype = cv2.CV_8U) \n",
        "   \n",
        "    curverad= (left_curverad + right_curverad)/2\n",
        "    side_pos = 'right'\n",
        "    if center_diff <= 0:\n",
        "        side_pos = 'left'\n",
        "    cv2.putText(result, 'Radius of Curvature='+str(round(curverad,3))+'m ',(50,50),cv2.FONT_HERSHEY_SIMPLEX,1,(255,255,255),2)\n",
        "    cv2.putText(result, 'Vehicle is '+str(abs(round(center_diff,3)))+'m '+side_pos+' of center',(50,100), cv2.FONT_HERSHEY_SIMPLEX,1,(255,255,255),2)\n",
        "\n",
        "    return result"
      ],
      "metadata": {
        "id": "th-Gh5MvLp5V"
      },
      "execution_count": null,
      "outputs": []
    },
    {
      "cell_type": "markdown",
      "source": [
        "## - debug mode"
      ],
      "metadata": {
        "id": "EBDGngedMBW9"
      }
    },
    {
      "cell_type": "code",
      "execution_count": null,
      "metadata": {
        "id": "LoHMQjuqLm9H"
      },
      "outputs": [],
      "source": [
        "def process7_debug(input):\n",
        " \n",
        "    # step 1 get edges\n",
        "    # after_thr=thresholding(input)\n",
        "    # after_canny=canny(input)\n",
        "    # combined = combine_threshold(after_thr,after_canny)\n",
        "    # region_of_inter = region_of_interest(input)\n",
        "\n",
        "    after_canny=canny(input)\n",
        "    # plt_images(input,\"input\",after_canny,\"after canny\")\n",
        "\n",
        "    blur = cv2.blur(input,(5,5))\n",
        "\n",
        "    gradient_combined = apply_thresholds(blur) #input\n",
        "    # Color thresholding\n",
        "    s_binary = apply_color_threshold(blur) #input\n",
        "    # Combine Gradient and Color thresholding\n",
        "    combined_binary = combine_threshold(s_binary, gradient_combined)\n",
        "\n",
        "    combined = combine_threshold(after_canny,combined_binary)\n",
        "    # plt_images(input,\"input\",after_canny,\"after canny\")\n",
        "\n",
        "    ##############################################\n",
        "    # show after canny+,  combined_binary,  combined, after warp+, paint, rect, inv_rect, result+\n",
        "\n",
        "    # step 2 warp canny image\n",
        "    after_warp1=perspective_warp(combined)\n",
        "    # after_warp1=strong_warp(after_warp1)\n",
        "    # plt_images(after_canny,\"after canny\",after_warp,\"after warp\")\n",
        "    after_warp = remove_noise(after_warp1)\n",
        "    rect = Draw_rectangle(after_warp)#take 1 channel img\n",
        "    # # rect_img=cv2.add(rect,after_warp,dtype = cv2.CV_8U)\n",
        "    inv_rect =inv_perspective_warp(rect) \n",
        "\n",
        "    # step 3 paint area between lanes\n",
        "    # out_img, window_img, filled_lanes_img, left_curverad, right_curverad\n",
        "    paint,window_img,filled_lanes_img, left_curverad, right_curverad, center_diff = search_around_poly(after_warp)\n",
        "    # plt_images(after_warp,\"after warp\",filled_lanes_img,\"filled lanes\")\n",
        "    # plt_images(window_img,\"window img\",paint,\" painted area \")\n",
        "\n",
        "\n",
        "    # step 4 inverse perspective\n",
        "    frame =inv_perspective_warp(paint, \n",
        "                        dst_size=(input.shape[1],input.shape[0]),\n",
        "                        src=np.float32([(0,0), (1, 0), (0,1), (1,1)]),\n",
        "                        dst=np.float32([(0.43,0.65),(0.58,0.65),(0.1,1),(1,1)]))\n",
        "\n",
        "\n",
        "    # step 5 add painting to input image\n",
        "    result = cv2.addWeighted(frame, 0.3, input, 0.7, 0,dtype = cv2.CV_8U) \n",
        "    # plt_images(input, ' input ', result, ' result ')\n",
        "    # iny = process_image_rect(input)\n",
        "    # print(\"combined: \",combined.shape,combined)\n",
        "    # print(\"after_warp: \",after_warp.shape,after_warp)\n",
        "    curverad= (left_curverad + right_curverad)/2\n",
        "    side_pos = 'right'\n",
        "    if center_diff <= 0:\n",
        "        side_pos = 'left'\n",
        "    cv2.putText(result, 'Radius of Curvature='+str(round(curverad,3))+'m ',(50,50),cv2.FONT_HERSHEY_SIMPLEX,1,(255,255,255),2)\n",
        "    cv2.putText(result, 'Vehicle is '+str(abs(round(center_diff,3)))+'m '+side_pos+' of center',(50,100), cv2.FONT_HERSHEY_SIMPLEX,1,(255,255,255),2)\n",
        "#combine_images( lane_area_img1(resul), edges(binary), warp(binary),warp_rect(rect),warp_highlight(paint), lane(inv_rect))\n",
        "    out = combine_images(result,combined,after_warp,rect,paint,inv_rect) # after_canny, after_warp,input must be binary\n",
        "    # cv2_imshow(out)\n",
        "\n",
        "    return out"
      ]
    }
  ]
}