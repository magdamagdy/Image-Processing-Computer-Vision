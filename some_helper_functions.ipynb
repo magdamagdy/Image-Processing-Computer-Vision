{
  "nbformat": 4,
  "nbformat_minor": 0,
  "metadata": {
    "colab": {
      "name": "some helper functions.ipynb",
      "provenance": [],
      "collapsed_sections": []
    },
    "kernelspec": {
      "name": "python3",
      "display_name": "Python 3"
    },
    "language_info": {
      "name": "python"
    }
  },
  "cells": [
    {
      "cell_type": "code",
      "source": [
        "import numpy as np\n",
        "import cv2\n",
        "import os\n",
        "import glob\n",
        "import matplotlib.pyplot as plt\n",
        "from google.colab.patches import cv2_imshow\n",
        "from moviepy.editor import VideoFileClip\n",
        "from moviepy.video.io.VideoFileClip import VideoFileClip\n",
        "#from tracker import *"
      ],
      "metadata": {
        "colab": {
          "base_uri": "https://localhost:8080/"
        },
        "id": "kYk6NauyxPS_",
        "outputId": "c7f86be0-e39b-4cb5-dc6f-33abc4de1cf4"
      },
      "execution_count": 1,
      "outputs": [
        {
          "output_type": "stream",
          "name": "stdout",
          "text": [
            "Imageio: 'ffmpeg-linux64-v3.3.1' was not found on your computer; downloading it now.\n",
            "Try 1. Download from https://github.com/imageio/imageio-binaries/raw/master/ffmpeg/ffmpeg-linux64-v3.3.1 (43.8 MB)\n",
            "Downloading: 8192/45929032 bytes (0.0%)\b\b\b\b\b\b\b\b\b\b\b\b\b\b\b\b\b\b\b\b\b\b\b\b\b\b2162688/45929032 bytes (4.7%)\b\b\b\b\b\b\b\b\b\b\b\b\b\b\b\b\b\b\b\b\b\b\b\b\b\b\b\b\b5357568/45929032 bytes (11.7%)\b\b\b\b\b\b\b\b\b\b\b\b\b\b\b\b\b\b\b\b\b\b\b\b\b\b\b\b\b\b8314880/45929032 bytes (18.1%)\b\b\b\b\b\b\b\b\b\b\b\b\b\b\b\b\b\b\b\b\b\b\b\b\b\b\b\b\b\b11444224/45929032 bytes (24.9%)\b\b\b\b\b\b\b\b\b\b\b\b\b\b\b\b\b\b\b\b\b\b\b\b\b\b\b\b\b\b\b14770176/45929032 bytes (32.2%)\b\b\b\b\b\b\b\b\b\b\b\b\b\b\b\b\b\b\b\b\b\b\b\b\b\b\b\b\b\b\b18006016/45929032 bytes (39.2%)\b\b\b\b\b\b\b\b\b\b\b\b\b\b\b\b\b\b\b\b\b\b\b\b\b\b\b\b\b\b\b21233664/45929032 bytes (46.2%)\b\b\b\b\b\b\b\b\b\b\b\b\b\b\b\b\b\b\b\b\b\b\b\b\b\b\b\b\b\b\b24100864/45929032 bytes (52.5%)\b\b\b\b\b\b\b\b\b\b\b\b\b\b\b\b\b\b\b\b\b\b\b\b\b\b\b\b\b\b\b27066368/45929032 bytes (58.9%)\b\b\b\b\b\b\b\b\b\b\b\b\b\b\b\b\b\b\b\b\b\b\b\b\b\b\b\b\b\b\b29999104/45929032 bytes (65.3%)\b\b\b\b\b\b\b\b\b\b\b\b\b\b\b\b\b\b\b\b\b\b\b\b\b\b\b\b\b\b\b33308672/45929032 bytes (72.5%)\b\b\b\b\b\b\b\b\b\b\b\b\b\b\b\b\b\b\b\b\b\b\b\b\b\b\b\b\b\b\b36061184/45929032 bytes (78.5%)\b\b\b\b\b\b\b\b\b\b\b\b\b\b\b\b\b\b\b\b\b\b\b\b\b\b\b\b\b\b\b39215104/45929032 bytes (85.4%)\b\b\b\b\b\b\b\b\b\b\b\b\b\b\b\b\b\b\b\b\b\b\b\b\b\b\b\b\b\b\b42049536/45929032 bytes (91.6%)\b\b\b\b\b\b\b\b\b\b\b\b\b\b\b\b\b\b\b\b\b\b\b\b\b\b\b\b\b\b\b45645824/45929032 bytes (99.4%)\b\b\b\b\b\b\b\b\b\b\b\b\b\b\b\b\b\b\b\b\b\b\b\b\b\b\b\b\b\b\b45929032/45929032 bytes (100.0%)\n",
            "  Done\n",
            "File saved as /root/.imageio/ffmpeg/ffmpeg-linux64-v3.3.1.\n"
          ]
        }
      ]
    },
    {
      "cell_type": "markdown",
      "source": [
        "##Trial for strong warping"
      ],
      "metadata": {
        "id": "lO2Z3pOTw5CT"
      }
    },
    {
      "cell_type": "code",
      "execution_count": 2,
      "metadata": {
        "id": "7KIJCd2Kvuh1"
      },
      "outputs": [],
      "source": [
        "def display_lines(img,lines):\n",
        "  linesImage = np.zeros_like(img)\n",
        "  if lines is not None:\n",
        "    for line in lines:\n",
        "      x1,y1,x2,y2 = line.reshape(4)\n",
        "      cv2.line(linesImage,(x1,y1),(x2,y2),(255,0,0),10)\n",
        "  return linesImage"
      ]
    },
    {
      "cell_type": "code",
      "source": [
        "def strong_warp(after_warp):\n",
        "  lines=cv2.HoughLinesP(after_warp,2,np.pi/180,70,np.array([]),minLineLength=50,maxLineGap=30) #minLineLength-> least length detected\n",
        "                                                                                                #maxLineGap -> join lines separated by this number to make them single line\n",
        "  lines_image=display_lines(after_warp,lines)\n",
        "  Final_warp=cv2.add(after_warp,lines_image)\n",
        "  return Final_warp\n",
        "\n",
        "Final_warp = strong_warp(after_warp)\n",
        "show_image(Final_warp,\"Final_warp\")"
      ],
      "metadata": {
        "id": "mxobrFEbwdlR"
      },
      "execution_count": null,
      "outputs": []
    },
    {
      "cell_type": "markdown",
      "source": [
        "##Histogram visualization\n"
      ],
      "metadata": {
        "id": "6MGPpkFZwwoY"
      }
    },
    {
      "cell_type": "code",
      "source": [
        "histogram = np.sum(after_warp[after_warp.shape[0]//2:,:], axis=0)\n",
        "\n",
        "# Peak in the first half indicates the likely position of the left lane\n",
        "half_width = np.int(histogram.shape[0]/2)\n",
        "leftx_base = np.argmax(histogram[:half_width])\n",
        "\n",
        "# Peak in the second half indicates the likely position of the right lane\n",
        "rightx_base = np.argmax(histogram[half_width:]) + half_width\n",
        "\n",
        "\n",
        "print('Leftx Base = ', leftx_base,'Rightx_Base = ', rightx_base)\n",
        "# Plot the results\n",
        "plt.title('Histogram', fontsize=16)\n",
        "plt.xlabel('Pixel position')\n",
        "plt.ylabel('Counts')\n",
        "plt.plot(histogram);"
      ],
      "metadata": {
        "id": "3lTIwuvdwvvI"
      },
      "execution_count": null,
      "outputs": []
    }
  ]
}