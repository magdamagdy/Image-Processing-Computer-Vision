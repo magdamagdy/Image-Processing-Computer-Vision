{
  "nbformat": 4,
  "nbformat_minor": 0,
  "metadata": {
    "colab": {
      "name": "Untitled2.ipynb",
      "provenance": []
    },
    "kernelspec": {
      "name": "python3",
      "display_name": "Python 3"
    },
    "language_info": {
      "name": "python"
    }
  },
  "cells": [
    {
      "cell_type": "code",
      "execution_count": 5,
      "metadata": {
        "id": "HGKUiPl6CkgY"
      },
      "outputs": [],
      "source": [
        "import numpy as np\n",
        "import cv2\n",
        "import os\n",
        "import glob\n",
        "import matplotlib.pyplot as plt\n",
        "from google.colab.patches import cv2_imshow\n",
        "from moviepy.editor import VideoFileClip\n",
        "from moviepy.video.io.VideoFileClip import VideoFileClip"
      ]
    },
    {
      "cell_type": "code",
      "source": [
        "def Draw_rectangle(warped_img):\n",
        "  rect = np.dstack((warped_img, warped_img, warped_img))*255  #warped_img is binary 1 channel so we convert it to colored mage 3 channels so we can draw colored rectangl on it\n",
        "  # rect = np.ones_like(Final_warp)\n",
        "  rect = cv2.rectangle(rect,(70,0),(1220,720),(255,0,0),20)  #to draw rect you need top-left corner and bottom-right corner of rectangle\n",
        "  # test =cv2.add(Final_warp,rect)\n",
        "  #bitwiseOr = cv2.bitwise_or(rect, Final_warp)\n",
        "  return rect #return rectangle or rect??????????????? rect:return the warped image with the rectangle drawing on it"
      ],
      "metadata": {
        "id": "bwinAwncC-Ud"
      },
      "execution_count": 6,
      "outputs": []
    }
  ]
}