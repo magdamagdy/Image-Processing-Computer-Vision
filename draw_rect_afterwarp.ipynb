{
  "cells": [
    {
      "cell_type": "code",
      "execution_count": null,
      "metadata": {
        "colab": {
          "background_save": true
        },
        "id": "HEzfYwLHNINY"
      },
      "outputs": [],
      "source": [
        "import cv2\n",
        "import numpy as np"
      ]
    },
    {
      "cell_type": "code",
      "source": [
        "def img_with_rectangle(rect,after_warp):\n",
        "  Rectangle = cv2.add(rect,after_warp, dtype = cv2.CV_8U)\n",
        "  return Rectangle"
      ],
      "metadata": {
        "id": "WxdtNZXjDZ5y"
      },
      "execution_count": null,
      "outputs": []
    }
  ],
  "metadata": {
    "colab": {
      "name": "draw_rect_afterwarp.ipynb",
      "provenance": []
    },
    "kernelspec": {
      "display_name": "Python 3",
      "name": "python3"
    },
    "language_info": {
      "name": "python"
    }
  },
  "nbformat": 4,
  "nbformat_minor": 0
}