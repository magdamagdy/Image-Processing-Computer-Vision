{
  "nbformat": 4,
  "nbformat_minor": 0,
  "metadata": {
    "colab": {
      "name": "Untitled2.ipynb",
      "provenance": []
    },
    "kernelspec": {
      "name": "python3",
      "display_name": "Python 3"
    },
    "language_info": {
      "name": "python"
    }
  },
  "cells": [
    {
      "cell_type": "code",
      "execution_count": 3,
      "metadata": {
        "id": "HGKUiPl6CkgY"
      },
      "outputs": [],
      "source": [
        "import numpy as np\n",
        "import cv2\n",
        "import os\n",
        "import glob\n",
        "import matplotlib.pyplot as plt\n",
        "from google.colab.patches import cv2_imshow\n",
        "from moviepy.editor import VideoFileClip\n",
        "from moviepy.video.io.VideoFileClip import VideoFileClip"
      ]
    },
    {
      "cell_type": "code",
      "source": [
        "def region_of_interest(img):\n",
        "  h=img.shape[0]\n",
        "  w=img.shape[1]\n",
        "  # polygons = np.array([[100,h],[400,570],[600,530],[750,500],[870,530],[1200,h]])\n",
        "  polygons = np.array([[30,h],[w,h],[w,0],[1300,0],[630,460],[480,500]])\n",
        "  #  [(100,height),(480,int(height/2)),(900,height)] 3/5 2/3 \n",
        "  #  [(0,h),(int(0.1*w),int(h* 2/3)),(int(0.8*w),int(h* 2/3)),(int(0.9*w),h)] \n",
        "  #  [200,h],[600,700],[700,650],[1020,600],[1200,800],[1400,h]\n",
        "  #  [100,h],[400,570],[600,530],[750,450],[870,530],[1200,h]\n",
        "  mask=np.zeros_like(img)\n",
        "  cv2.fillPoly(mask,pts=[polygons],color=(255,255,255))\n",
        "  masked_image = cv2.bitwise_and(mask,img)\n",
        "  return masked_image"
      ],
      "metadata": {
        "id": "bwinAwncC-Ud"
      },
      "execution_count": 4,
      "outputs": []
    }
  ]
}